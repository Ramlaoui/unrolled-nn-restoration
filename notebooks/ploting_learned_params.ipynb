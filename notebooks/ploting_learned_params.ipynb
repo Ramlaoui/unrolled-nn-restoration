{
 "cells": [
  {
   "cell_type": "code",
   "execution_count": 4,
   "metadata": {},
   "outputs": [],
   "source": [
    "import sys\n",
    "sys.path.append(\"../\")\n",
    "\n",
    "from src.models.primal_dual import PrimalDual, tau, gamma, rho\n",
    "from src.models.ista import ISTA, chi, gamma\n",
    "from src.models.half_quadratic import HalfQuadratic, lambda_\n",
    "from src.train import SingleTrainer, SparseDataset\n",
    "\n"
   ]
  },
  {
   "cell_type": "code",
   "execution_count": 1,
   "metadata": {},
   "outputs": [],
   "source": [
    "def plot_algo_params_by_iteration(model):\n",
    "    \"\"\"test model type if it is PrimalDual, ISTA or HalfQuadratic\n",
    "    Args:\n",
    "        model: trained model to be tested\n",
    "    Returns:\n",
    "        layers: list of layers\n",
    "        params: list of parameters\n",
    "        init_params: list of initial parameters\n",
    "    \"\"\"\n",
    "    if isinstance(model, PrimalDual):\n",
    "        taus = [layer.tau.detach().numpy()[0] for layer in model.layers]\n",
    "        gammas = [layer.gamma.detach().numpy()[0] for layer in model.layers]\n",
    "        rhos = [layer.rho.detach().numpy()[0] for layer in model.layers]\n",
    "        parmas = {\n",
    "            \"tau\": taus,\n",
    "            \"gamma\": gammas,\n",
    "            \"rho\": rhos\n",
    "        }\n",
    "        init_params = {\n",
    "            \"tau\": [tau*model.init_factor for _ in model.layers],\n",
    "            \"gamma\": [gamma*model.init_factor for _ in model.layers],\n",
    "            \"rho\": [rho*model.init_factor for _ in model.layers]\n",
    "        }\n",
    "        layers = range(1, len(model.layers)+1)\n",
    "    elif isinstance(model, ISTA):\n",
    "        chis = [layer.chi.detach().numpy()[0] for layer in model.layers]\n",
    "        gammas = [layer.gamma.detach().numpy()[0] for layer in model.layers]\n",
    "        parmas = {\n",
    "            \"chi\": chis,\n",
    "            \"gamma\": gammas\n",
    "        }\n",
    "        init_params = {\n",
    "            \"chi\": [chi*model.init_factor for _ in model.layers],\n",
    "            \"gamma\": [gamma*model.init_factor for _ in model.layers]\n",
    "        }\n",
    "        layers = range(1, len(model.layers)+1)\n",
    "    elif isinstance(model, HalfQuadratic):\n",
    "        lambdas = [layer.lambd.detach().numpy()[0] for layer in model.layers]\n",
    "        layers = range(1, len(model.layers)+1)\n",
    "        parmas = {\n",
    "            \"lambda\": lambdas\n",
    "        }\n",
    "        init_params = {\n",
    "            \"lambda\": [lambda_*model.init_factor for _ in model.layers]\n",
    "        }\n",
    "    return layers, parmas, init_params"
   ]
  },
  {
   "cell_type": "code",
   "execution_count": null,
   "metadata": {},
   "outputs": [],
   "source": []
  }
 ],
 "metadata": {
  "kernelspec": {
   "display_name": "Python 3",
   "language": "python",
   "name": "python3"
  },
  "language_info": {
   "codemirror_mode": {
    "name": "ipython",
    "version": 3
   },
   "file_extension": ".py",
   "mimetype": "text/x-python",
   "name": "python",
   "nbconvert_exporter": "python",
   "pygments_lexer": "ipython3",
   "version": "3.9.13"
  }
 },
 "nbformat": 4,
 "nbformat_minor": 2
}
