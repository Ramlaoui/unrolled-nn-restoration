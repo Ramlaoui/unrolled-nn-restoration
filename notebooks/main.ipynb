{
 "cells": [
  {
   "cell_type": "code",
   "execution_count": 1,
   "metadata": {},
   "outputs": [],
   "source": [
    "import sys\n",
    "\n",
    "try:\n",
    "    if changed:\n",
    "        raise Exception(\"changed\")\n",
    "except NameError:\n",
    "    changed = False\n",
    "    sys.path.append(\"../\")"
   ]
  },
  {
   "cell_type": "code",
   "execution_count": 3,
   "metadata": {},
   "outputs": [
    {
     "data": {
      "text/html": [
       "<div>\n",
       "<style scoped>\n",
       "    .dataframe tbody tr th:only-of-type {\n",
       "        vertical-align: middle;\n",
       "    }\n",
       "\n",
       "    .dataframe tbody tr th {\n",
       "        vertical-align: top;\n",
       "    }\n",
       "\n",
       "    .dataframe thead th {\n",
       "        text-align: right;\n",
       "    }\n",
       "</style>\n",
       "<table border=\"1\" class=\"dataframe\">\n",
       "  <thead>\n",
       "    <tr style=\"text-align: right;\">\n",
       "      <th></th>\n",
       "      <th>Formule chimique</th>\n",
       "      <th>peak</th>\n",
       "      <th>intensitÈ</th>\n",
       "      <th>intensitÈ relative</th>\n",
       "    </tr>\n",
       "  </thead>\n",
       "  <tbody>\n",
       "    <tr>\n",
       "      <th>0</th>\n",
       "      <td>C27H39NO2</td>\n",
       "      <td>['84.1', '105.1', '107.1', '114.1', '115.1', '...</td>\n",
       "      <td>['12461', '2208', '2394', '40390', '2816', '31...</td>\n",
       "      <td>['32', '6', '6', '105', '7', '8', '6', '82', '...</td>\n",
       "    </tr>\n",
       "    <tr>\n",
       "      <th>1</th>\n",
       "      <td>C33H49NO7</td>\n",
       "      <td>['84.1', '85.1', '87.0', '97.0', '99.0', '102....</td>\n",
       "      <td>['8514', '1990', '1086', '907', '621', '1378',...</td>\n",
       "      <td>['161', '38', '21', '17', '12', '26', '20', '2...</td>\n",
       "    </tr>\n",
       "    <tr>\n",
       "      <th>2</th>\n",
       "      <td>C33H51NO7</td>\n",
       "      <td>['67.1', '81.1', '84.1', '85.0', '87.0', '96.1...</td>\n",
       "      <td>['450', '620', '2636', '1396', '607', '476', '...</td>\n",
       "      <td>['21', '29', '123', '65', '28', '22', '34', '2...</td>\n",
       "    </tr>\n",
       "    <tr>\n",
       "      <th>3</th>\n",
       "      <td>C20H32O3</td>\n",
       "      <td>['123.120', '135.200', '139.200', '145.180', '...</td>\n",
       "      <td>['12500.0', '29166.7', '29166.7', '16666.7', '...</td>\n",
       "      <td>['1', '3', '3', '2', '1', '39', '1', '2', '1',...</td>\n",
       "    </tr>\n",
       "    <tr>\n",
       "      <th>4</th>\n",
       "      <td>C18H32O3</td>\n",
       "      <td>['195.247', '196.440', '233.341', '277.395', '...</td>\n",
       "      <td>['947500.0', '40000.0', '112500.0', '2582500.0...</td>\n",
       "      <td>['22', '1', '3', '59', '1', '1', '1', '2', '99...</td>\n",
       "    </tr>\n",
       "  </tbody>\n",
       "</table>\n",
       "</div>"
      ],
      "text/plain": [
       "  Formule chimique                                               peak  \\\n",
       "0        C27H39NO2  ['84.1', '105.1', '107.1', '114.1', '115.1', '...   \n",
       "1        C33H49NO7  ['84.1', '85.1', '87.0', '97.0', '99.0', '102....   \n",
       "2        C33H51NO7  ['67.1', '81.1', '84.1', '85.0', '87.0', '96.1...   \n",
       "3         C20H32O3  ['123.120', '135.200', '139.200', '145.180', '...   \n",
       "4         C18H32O3  ['195.247', '196.440', '233.341', '277.395', '...   \n",
       "\n",
       "                                           intensitÈ  \\\n",
       "0  ['12461', '2208', '2394', '40390', '2816', '31...   \n",
       "1  ['8514', '1990', '1086', '907', '621', '1378',...   \n",
       "2  ['450', '620', '2636', '1396', '607', '476', '...   \n",
       "3  ['12500.0', '29166.7', '29166.7', '16666.7', '...   \n",
       "4  ['947500.0', '40000.0', '112500.0', '2582500.0...   \n",
       "\n",
       "                                  intensitÈ relative  \n",
       "0  ['32', '6', '6', '105', '7', '8', '6', '82', '...  \n",
       "1  ['161', '38', '21', '17', '12', '26', '20', '2...  \n",
       "2  ['21', '29', '123', '65', '28', '22', '34', '2...  \n",
       "3  ['1', '3', '3', '2', '1', '39', '1', '2', '1',...  \n",
       "4  ['22', '1', '3', '59', '1', '1', '1', '2', '99...  "
      ]
     },
     "execution_count": 3,
     "metadata": {},
     "output_type": "execute_result"
    }
   ],
   "source": [
    "import pandas as pd\n",
    "\n",
    "df_massbank = pd.read_csv(\n",
    "    \"../data/MSdata.csv\", encoding=\"mac_roman\"\n",
    ")\n",
    "\n",
    "df_massbank.head()"
   ]
  },
  {
   "cell_type": "code",
   "execution_count": null,
   "metadata": {},
   "outputs": [],
   "source": []
  }
 ],
 "metadata": {
  "kernelspec": {
   "display_name": "venv",
   "language": "python",
   "name": "python3"
  },
  "language_info": {
   "codemirror_mode": {
    "name": "ipython",
    "version": 3
   },
   "file_extension": ".py",
   "mimetype": "text/x-python",
   "name": "python",
   "nbconvert_exporter": "python",
   "pygments_lexer": "ipython3",
   "version": "3.10.9"
  }
 },
 "nbformat": 4,
 "nbformat_minor": 2
}
